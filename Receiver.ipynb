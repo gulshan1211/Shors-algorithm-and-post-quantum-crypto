{
 "cells": [
  {
   "cell_type": "code",
   "execution_count": 5,
   "id": "c971461f",
   "metadata": {
    "ExecuteTime": {
     "end_time": "2023-06-01T12:49:21.039098Z",
     "start_time": "2023-06-01T12:49:21.035231Z"
    }
   },
   "outputs": [],
   "source": [
    "import dropbox\n",
    "import random\n",
    "import copy\n",
    "access_token = \"sl.BfeZ2Qe-5qJms9ZZTgAAuJsl9-Hwzd5m0GeSHCgSjBO3hmP838b99muWWb03DFGPxIg12byIQwF0ncYwBpCBOmcolFz8rm3e_6kebR9QdkUpStdzw-VG64nlKPPiDWstXjDPgQdx\"\n",
    "client = dropbox.Dropbox(access_token)"
   ]
  },
  {
   "cell_type": "code",
   "execution_count": 6,
   "id": "7978b83b",
   "metadata": {
    "ExecuteTime": {
     "end_time": "2023-06-01T12:49:21.300846Z",
     "start_time": "2023-06-01T12:49:21.297402Z"
    }
   },
   "outputs": [],
   "source": [
    "def send(data):\n",
    "    file_path = \"/public_key.txt\"\n",
    "    client.files_delete_v2(file_path)\n",
    "    client.files_upload(data.encode(), file_path)\n",
    "    print(\"Data uploaded successfully.\")"
   ]
  },
  {
   "cell_type": "code",
   "execution_count": 7,
   "id": "47d21f3f",
   "metadata": {
    "ExecuteTime": {
     "end_time": "2023-06-01T12:49:21.637504Z",
     "start_time": "2023-06-01T12:49:21.633262Z"
    }
   },
   "outputs": [],
   "source": [
    "def read(file_path):\n",
    "    _, response = client.files_download(file_path)\n",
    "    data = response.content.decode()\n",
    "    return data"
   ]
  },
  {
   "cell_type": "code",
   "execution_count": 8,
   "id": "6a4626b6",
   "metadata": {
    "ExecuteTime": {
     "end_time": "2023-06-01T12:49:28.501779Z",
     "start_time": "2023-06-01T12:49:22.416682Z"
    }
   },
   "outputs": [
    {
     "name": "stdout",
     "output_type": "stream",
     "text": [
      "Data uploaded successfully.\n"
     ]
    }
   ],
   "source": [
    "pvtKey = [10, 82, 50, 5]\n",
    "matrix = []\n",
    "for x in range(15):\n",
    "      row = [random.randint(1, 50) for i in range(len(pvtKey))]\n",
    "      dot = 0\n",
    "      for x in range(len(pvtKey)):\n",
    "        dot += row[x] * pvtKey[x]\n",
    "      row.append(dot)\n",
    "      matrix.append(row)\n",
    "\n",
    "N = 89\n",
    "for x in range(15):\n",
    "      matrix[x][-1] = matrix[x][-1] % N \n",
    "      noise = random.randint(-3, 3)\n",
    "      matrix[x][-1] += noise\n",
    "\n",
    "temp = []\n",
    "for i in range(len(matrix)):\n",
    "    for j in matrix[i]:\n",
    "        temp.append(j)\n",
    "        \n",
    "temp.insert(0, N)\n",
    "def listTostring(matrix):\n",
    "    file = \"\"\n",
    "    for i in matrix:\n",
    "        string = str(i)\n",
    "        file = file+string+\" \"\n",
    "    return file\n",
    "\n",
    "def stringTolist(data):\n",
    "    temp = list(map(float, data.split()))\n",
    "    return temp\n",
    "\n",
    "send(listTostring(temp))"
   ]
  },
  {
   "cell_type": "code",
   "execution_count": 9,
   "id": "72f86e3b",
   "metadata": {
    "ExecuteTime": {
     "end_time": "2023-06-01T12:50:05.016853Z",
     "start_time": "2023-06-01T12:50:04.018916Z"
    }
   },
   "outputs": [],
   "source": [
    "message = stringTolist(read(\"/public_key.txt\"))"
   ]
  },
  {
   "cell_type": "code",
   "execution_count": 10,
   "id": "5e449341",
   "metadata": {
    "ExecuteTime": {
     "end_time": "2023-06-01T12:50:05.027777Z",
     "start_time": "2023-06-01T12:50:05.022641Z"
    }
   },
   "outputs": [],
   "source": [
    "rec = []\n",
    "for i in (range(len(message) // 5)):\n",
    "\ti = (i+1)*5\n",
    "\trow = message[:5]\n",
    "\tmessage = message[5:]\n",
    "\trec.append(row)"
   ]
  },
  {
   "cell_type": "code",
   "execution_count": 11,
   "id": "72c5c885",
   "metadata": {
    "ExecuteTime": {
     "end_time": "2023-06-01T12:50:05.035439Z",
     "start_time": "2023-06-01T12:50:05.030606Z"
    }
   },
   "outputs": [],
   "source": [
    "decrypted = []\n",
    "for i in rec:\n",
    "    store = 0\n",
    "    for j in range(len(pvtKey)):\n",
    "        store += i[j]*pvtKey[j]\n",
    "    store = store % N\n",
    "    dec = i[-1] - store\n",
    "    dec = dec % N\n",
    "    dec = int(dec)\n",
    "    if dec in range((N // 2) - 9, (N // 2) + 9):\n",
    "        decrypted.append(1)\n",
    "    else:\n",
    "        decrypted.append(0)"
   ]
  },
  {
   "cell_type": "code",
   "execution_count": 12,
   "id": "1aed0eb4",
   "metadata": {
    "ExecuteTime": {
     "end_time": "2023-06-01T12:50:05.043734Z",
     "start_time": "2023-06-01T12:50:05.039082Z"
    }
   },
   "outputs": [],
   "source": [
    "def binary_to_string(binary_list):\n",
    "    string = ''\n",
    "    binary_string = ''.join(str(bit) for bit in binary_list)  \n",
    "\n",
    "    binary_groups = [binary_string[i:i+8] for i in range(0, len(binary_string), 8)]\n",
    "\n",
    "    for group in binary_groups:\n",
    "        decimal_value = int(group, 2)\n",
    "        char = chr(decimal_value)\n",
    "        string += char\n",
    "\n",
    "    return string"
   ]
  },
  {
   "cell_type": "code",
   "execution_count": 13,
   "id": "97503b89",
   "metadata": {
    "ExecuteTime": {
     "end_time": "2023-06-01T12:50:05.052003Z",
     "start_time": "2023-06-01T12:50:05.045810Z"
    }
   },
   "outputs": [
    {
     "data": {
      "text/plain": [
       "'Learning With Error'"
      ]
     },
     "execution_count": 13,
     "metadata": {},
     "output_type": "execute_result"
    }
   ],
   "source": [
    "binary_to_string(decrypted)"
   ]
  },
  {
   "cell_type": "code",
   "execution_count": null,
   "id": "8c6083ad",
   "metadata": {},
   "outputs": [],
   "source": []
  },
  {
   "cell_type": "code",
   "execution_count": null,
   "id": "8f13e552",
   "metadata": {},
   "outputs": [],
   "source": []
  }
 ],
 "metadata": {
  "kernelspec": {
   "display_name": "Python 3 (ipykernel)",
   "language": "python",
   "name": "python3"
  },
  "language_info": {
   "codemirror_mode": {
    "name": "ipython",
    "version": 3
   },
   "file_extension": ".py",
   "mimetype": "text/x-python",
   "name": "python",
   "nbconvert_exporter": "python",
   "pygments_lexer": "ipython3",
   "version": "3.10.9"
  }
 },
 "nbformat": 4,
 "nbformat_minor": 5
}
