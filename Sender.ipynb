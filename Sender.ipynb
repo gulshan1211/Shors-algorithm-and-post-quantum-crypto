{
 "cells": [
  {
   "cell_type": "code",
   "execution_count": 3,
   "id": "fc7c79cc",
   "metadata": {
    "ExecuteTime": {
     "end_time": "2023-06-01T12:49:31.768243Z",
     "start_time": "2023-06-01T12:49:31.764359Z"
    }
   },
   "outputs": [],
   "source": [
    "import dropbox\n",
    "import random\n",
    "import copy\n",
    "access_token = \"sl.BfeZ2Qe-5qJms9ZZTgAAuJsl9-Hwzd5m0GeSHCgSjBO3hmP838b99muWWb03DFGPxIg12byIQwF0ncYwBpCBOmcolFz8rm3e_6kebR9QdkUpStdzw-VG64nlKPPiDWstXjDPgQdx\"\n",
    "client = dropbox.Dropbox(access_token)"
   ]
  },
  {
   "cell_type": "code",
   "execution_count": 4,
   "id": "49502344",
   "metadata": {
    "ExecuteTime": {
     "end_time": "2023-06-01T12:49:32.130022Z",
     "start_time": "2023-06-01T12:49:32.126811Z"
    }
   },
   "outputs": [],
   "source": [
    "def send(data):\n",
    "    file_path = \"/public_key.txt\"\n",
    "    client.files_delete_v2(file_path)\n",
    "    client.files_upload(data.encode(), file_path)\n",
    "    print(\"Data uploaded successfully.\")"
   ]
  },
  {
   "cell_type": "code",
   "execution_count": 5,
   "id": "f0e1696b",
   "metadata": {
    "ExecuteTime": {
     "end_time": "2023-06-01T12:49:32.487990Z",
     "start_time": "2023-06-01T12:49:32.482197Z"
    }
   },
   "outputs": [],
   "source": [
    "def read(file_path):\n",
    "    _, response = client.files_download(file_path)\n",
    "    data = response.content.decode()\n",
    "    element = list(map(float, data.split()))\n",
    "    return element"
   ]
  },
  {
   "cell_type": "code",
   "execution_count": 6,
   "id": "f5e6c3c9",
   "metadata": {
    "ExecuteTime": {
     "end_time": "2023-06-01T12:49:35.227554Z",
     "start_time": "2023-06-01T12:49:35.224298Z"
    }
   },
   "outputs": [],
   "source": [
    "def convert(encrypt):\n",
    "\tstring = \"\"\n",
    "\tfor i in range(len(encrypt)):\n",
    "\t\tstring += str(encrypt[i]) + \" \"\n",
    "\treturn string"
   ]
  },
  {
   "cell_type": "code",
   "execution_count": 7,
   "id": "b99b4d31",
   "metadata": {
    "ExecuteTime": {
     "end_time": "2023-06-01T12:49:37.447352Z",
     "start_time": "2023-06-01T12:49:35.443808Z"
    }
   },
   "outputs": [],
   "source": [
    "element = read(\"/public_key.txt\")\n",
    "N = element[0]\n",
    "del element[0]"
   ]
  },
  {
   "cell_type": "code",
   "execution_count": 8,
   "id": "1afcfec5",
   "metadata": {
    "ExecuteTime": {
     "end_time": "2023-06-01T12:49:37.456642Z",
     "start_time": "2023-06-01T12:49:37.451806Z"
    }
   },
   "outputs": [],
   "source": [
    "matrix = []\n",
    "for i in (range(len(element) // 5)):\n",
    "\ti = (i+1)*5\n",
    "\trow = element[:5]\n",
    "\telement = element[5:]\n",
    "\tmatrix.append(row)"
   ]
  },
  {
   "cell_type": "code",
   "execution_count": 9,
   "id": "2912fbf6",
   "metadata": {
    "ExecuteTime": {
     "end_time": "2023-06-01T12:49:38.047197Z",
     "start_time": "2023-06-01T12:49:38.038764Z"
    }
   },
   "outputs": [
    {
     "data": {
      "text/plain": [
       "[[6.0, 25.0, 5.0, 41.0, 76.0],\n",
       " [45.0, 33.0, 6.0, 22.0, 6.0],\n",
       " [49.0, 30.0, 4.0, 11.0, 2.0],\n",
       " [38.0, 45.0, 42.0, 21.0, 47.0],\n",
       " [13.0, 33.0, 48.0, 30.0, 43.0],\n",
       " [2.0, 23.0, 40.0, 8.0, 27.0],\n",
       " [7.0, 10.0, 32.0, 20.0, 8.0],\n",
       " [39.0, 3.0, 7.0, 28.0, 59.0],\n",
       " [20.0, 34.0, 2.0, 40.0, 85.0],\n",
       " [1.0, 34.0, 25.0, 14.0, 22.0],\n",
       " [43.0, 35.0, 50.0, 40.0, 35.0],\n",
       " [17.0, 49.0, 49.0, 34.0, 41.0],\n",
       " [18.0, 25.0, 33.0, 19.0, 59.0],\n",
       " [38.0, 19.0, 47.0, 24.0, 45.0],\n",
       " [7.0, 13.0, 48.0, 20.0, 76.0]]"
      ]
     },
     "execution_count": 9,
     "metadata": {},
     "output_type": "execute_result"
    }
   ],
   "source": [
    "matrix"
   ]
  },
  {
   "cell_type": "code",
   "execution_count": 10,
   "id": "c9b66f60",
   "metadata": {
    "ExecuteTime": {
     "end_time": "2023-06-01T12:49:45.682400Z",
     "start_time": "2023-06-01T12:49:45.678601Z"
    }
   },
   "outputs": [],
   "source": [
    "def char_to_binary(char):\n",
    "    ascii_code = ord(char) \n",
    "    binary_form = format(ascii_code, '08b') \n",
    "    return binary_form"
   ]
  },
  {
   "cell_type": "code",
   "execution_count": 11,
   "id": "de14e998",
   "metadata": {
    "ExecuteTime": {
     "end_time": "2023-06-01T12:49:45.930549Z",
     "start_time": "2023-06-01T12:49:45.927258Z"
    }
   },
   "outputs": [],
   "source": [
    "message = \"Learning With Error\"\n",
    "binary = []\n",
    "for i in message:\n",
    "    x = char_to_binary(i)\n",
    "    for j in x:\n",
    "        binary.append(int(j))"
   ]
  },
  {
   "cell_type": "code",
   "execution_count": 12,
   "id": "e4705609",
   "metadata": {
    "ExecuteTime": {
     "end_time": "2023-06-01T12:49:46.212463Z",
     "start_time": "2023-06-01T12:49:46.193208Z"
    }
   },
   "outputs": [],
   "source": [
    "encrypted = []\n",
    "for i in binary:\n",
    "    select = random.sample(range(0, 15), 3)\n",
    "    temp = [0 for j in range(len(matrix[0]))]\n",
    "    for x in select:\n",
    "          for k in range(len(matrix[x])):\n",
    "            temp[k] += matrix[x][k]\n",
    "            \n",
    "    temp[-1] = temp[-1] + random.randint(-2,2)\n",
    "    temp[-1] = temp[-1]%N\n",
    "    if (i == 0):\n",
    "        encrypt = copy.deepcopy(temp)\n",
    "    else:\n",
    "        encrypt = copy.deepcopy(temp)\n",
    "        encrypt[-1] = encrypt[-1] + N / 2\n",
    "        \n",
    "    encrypted.append(encrypt)"
   ]
  },
  {
   "cell_type": "code",
   "execution_count": 13,
   "id": "019d96c9",
   "metadata": {
    "ExecuteTime": {
     "end_time": "2023-06-01T12:49:59.792986Z",
     "start_time": "2023-06-01T12:49:46.708120Z"
    }
   },
   "outputs": [
    {
     "name": "stdout",
     "output_type": "stream",
     "text": [
      "Data uploaded successfully.\n"
     ]
    }
   ],
   "source": [
    "final = []\n",
    "for i in encrypted:\n",
    "    for j in i:\n",
    "        final.append(j)\n",
    "\n",
    "\n",
    "def listTostring(matrix):\n",
    "    file = \"\"\n",
    "    for i in matrix:\n",
    "        string = str(i)\n",
    "        file = file+string+\" \"\n",
    "    return file\n",
    "\n",
    "def stringTolist(data):\n",
    "    temp = list(map(float, data.split()))\n",
    "    return temp\n",
    "\n",
    "send(listTostring(final))"
   ]
  },
  {
   "cell_type": "code",
   "execution_count": null,
   "id": "5504ec78",
   "metadata": {},
   "outputs": [],
   "source": []
  },
  {
   "cell_type": "code",
   "execution_count": null,
   "id": "67a2ef03",
   "metadata": {},
   "outputs": [],
   "source": []
  }
 ],
 "metadata": {
  "kernelspec": {
   "display_name": "Python 3 (ipykernel)",
   "language": "python",
   "name": "python3"
  },
  "language_info": {
   "codemirror_mode": {
    "name": "ipython",
    "version": 3
   },
   "file_extension": ".py",
   "mimetype": "text/x-python",
   "name": "python",
   "nbconvert_exporter": "python",
   "pygments_lexer": "ipython3",
   "version": "3.10.9"
  }
 },
 "nbformat": 4,
 "nbformat_minor": 5
}
